{
 "cells": [
  {
   "attachments": {},
   "cell_type": "markdown",
   "metadata": {},
   "source": [
    "### Colin Alberts"
   ]
  },
  {
   "attachments": {},
   "cell_type": "markdown",
   "metadata": {},
   "source": [
    "## 0: Importing Packages and Defining Variables"
   ]
  },
  {
   "attachments": {},
   "cell_type": "markdown",
   "metadata": {},
   "source": [
    "### 0.0: Importing Packages"
   ]
  },
  {
   "cell_type": "code",
   "execution_count": null,
   "metadata": {},
   "outputs": [],
   "source": [
    "import numpy as np\n",
    "import pandas as pd\n",
    "from scipy.stats import norm\n",
    "import copy\n",
    "\n",
    "import plotly.graph_objs as go\n",
    "import matplotlib.pyplot as plt"
   ]
  },
  {
   "attachments": {},
   "cell_type": "markdown",
   "metadata": {},
   "source": [
    "### 0.1: Defining Variables\n",
    "\n",
    "| Barrier Acronym | Barrier Name |\n",
    "|-----------------|-----------------|\n",
    "| UIC | Up-and-In Call |\n",
    "| UIP | Up-and-In Put |\n",
    "| UOC | Up-and-Out Call |\n",
    "| UOP | Up-and-Out Put |\n",
    "| DIC | Down-and-In Call |\n",
    "| DIP | Down-and-In Put |\n",
    "| DOC | Down-and-Out Call |\n",
    "| DOP | Down-and-Out Put |"
   ]
  },
  {
   "cell_type": "code",
   "execution_count": null,
   "metadata": {},
   "outputs": [],
   "source": [
    "T = 1               # expiry time\n",
    "r = 0.1             # no-risk interest rate\n",
    "sigma = 0.1         # volatility of underlying asset\n",
    "delta = 0.0         # dividend rate\n",
    "E = 100.            # exercise price\n",
    "S_max = 2 * E       # upper bound of price of the stock (chosen somewhat arbitrarily, unlikely a security will double in price)\n",
    "S_min = 0           # this is redundant\n",
    "B = 120             # barrier price\n",
    "N = int(T * 100)    # time iterations\n",
    "M = int(S_max * 4)  # space iterations, accurate to about 25 cents was 4\n",
    "option_type = \"UOC\"\n",
    "\n",
    "# time grid\n",
    "ht = T / N\n",
    "ht_small = ht / 4\n",
    "t_end = np.linspace(start = T - ht,\n",
    "                    stop = T,\n",
    "                    num = 5)\n",
    "t_start = np.linspace(start = 0,\n",
    "                      stop = T - ht,\n",
    "                      num = N - 1,\n",
    "                      endpoint = False)\n",
    "t = np.concatenate((t_start, t_end))\n",
    "\n",
    "# spatial grid (stock's price)\n",
    "s, hs = np.linspace(0,\n",
    "                    S_max,\n",
    "                    M + 1,\n",
    "                    retstep = True)\n",
    "\n",
    "\n",
    "def initial_condition(x, option):\n",
    "    x_copy = x\n",
    "    \n",
    "    if option in [\"Euro Call\", \"UIC\", \"UOC\", \"DIC\", \"DOC\"]:\n",
    "        call_payoff = np.maximum(s - E, 0)\n",
    "        \n",
    "        if option in [\"UIC\", \"DOC\"]:\n",
    "            call_payoff[s < B] = 0\n",
    "        elif option in [\"UOC\", \"DIC\"]:\n",
    "            call_payoff[s >= B] = 0\n",
    "        \n",
    "        x_copy[:, -1] = call_payoff\n",
    "        x_copy[0, :] = 0\n",
    "        x_copy[-1, :] = np.exp(-r * (T - t)) * (S_max - E)\n",
    "    \n",
    "    elif option in [\"Euro Put\", \"UIP\", \"UOP\", \"DIP\", \"DOP\"] :\n",
    "        put_payoff = np.maximum(E - s, 0)\n",
    "        \n",
    "        if option in [\"UIP\", \"DOP\"]:\n",
    "            put_payoff[s < B] = 0\n",
    "        elif option in [\"UOP\", \"DIP\"]:\n",
    "            put_payoff[s >= B] = 0\n",
    "            \n",
    "        x_copy[:, -1] = put_payoff\n",
    "        x_copy[0, :] = np.exp(-r * (T - t)) * (E - S_min)\n",
    "        x_copy[-1, :] = 0\n",
    "\n",
    "    return x_copy\n",
    "\n",
    "# solution grid\n",
    "solution = np.zeros(shape = (M + 1, N + 1 + 3)) # the extra 3 is for Rannacher smoothing\n",
    "solution = initial_condition(solution, option_type)\n",
    "\n",
    "# averaging at strike to preserve second-order accuracy in Crank-Nicolson\n",
    "if option_type in [\"Euro Call\", \"Euro Put\"]:\n",
    "    solution[int(np.ceil(M / 2))][-1] = (solution[int(np.ceil(M / 2)) - 1][-1] + solution[int(np.ceil(M / 2)) + 1][-1]) / 2\n",
    "# averaging at the barrier\n",
    "elif option_type in [\"UIC\", \"UOC\", \"DIC\", \"DOC\",  \"UIP\", \"UOP\", \"DIP\", \"DOP\"]:\n",
    "    if B in s:\n",
    "        B_index = np.where(s == B)[0]\n",
    "        solution[B_index][-1] = (solution[B_index - 1][-1] + solution[B_index + 1][-1]) / 2\n",
    "    else:\n",
    "        # this is more concise than writing out a binary search\n",
    "        B_right_index = np.searchsorted(s, B)\n",
    "        B_left_index = B_right_index - 1\n",
    "        \n",
    "        # have to store temporary variables since I will be using each to average the other\n",
    "        temp = solution[B_right_index][-1]\n",
    "        solution[B_right_index][-1] = (solution[B_right_index - 1][-1] + solution[B_right_index + 1][-1]) / 2\n",
    "        solution[B_left_index][-1] = (solution[B_left_index - 1][-1] + temp) / 2"
   ]
  },
  {
   "attachments": {},
   "cell_type": "markdown",
   "metadata": {},
   "source": [
    "### 0.2: Optimization Functions\n",
    "\n",
    "I used the Thomas Algorithm implementation from [this](https://github.com/katpirat/Finite-difference-for-PDEs/blob/main/FD_for_BlackScholes_pricing.py) repo."
   ]
  },
  {
   "cell_type": "code",
   "execution_count": null,
   "metadata": {},
   "outputs": [],
   "source": [
    "# Thomas Algorithm, is only stable when matrix is diagonally dominant or SPD.\n",
    "def thomas(a, b, c, d):\n",
    "    dim = len(d)  # number of equations to be solved\n",
    "    ac, bc, cc, dc = map(np.array, (a, b, c, d))\n",
    "    \n",
    "    for i in range(1, dim):\n",
    "        w = ac[i - 1] / bc[i - 1]\n",
    "        bc[i] = bc[i] - w * cc[i - 1]\n",
    "        dc[i] = dc[i] - w * dc[i - 1]\n",
    "        \n",
    "    x = bc\n",
    "    x[-1] = dc[-1] / bc[-1]\n",
    "\n",
    "    for j in range(dim - 2, -1, -1):\n",
    "        x[j] = (dc[j] - cc[j] * x[j + 1]) / bc[j]\n",
    "        \n",
    "    return x"
   ]
  },
  {
   "attachments": {},
   "cell_type": "markdown",
   "metadata": {},
   "source": [
    "I check for diagonal dominance in the matrix that I solve the system with. If it is not diagonally dominant then bad things happen (convergence issues, instability, increased computation cost, etc.)."
   ]
  },
  {
   "cell_type": "code",
   "execution_count": null,
   "metadata": {},
   "outputs": [],
   "source": [
    "# Checking diagonal dominance for Thomas Algorithm stability\n",
    "def check_diag_dominant(mat):\n",
    "    diags = np.abs(np.diag(mat))\n",
    "    return np.all(diags >= np.sum(np.abs(mat), axis=1).T - diags)"
   ]
  },
  {
   "attachments": {},
   "cell_type": "markdown",
   "metadata": {},
   "source": [
    "# 1: Implementation"
   ]
  },
  {
   "attachments": {},
   "cell_type": "markdown",
   "metadata": {},
   "source": [
    "## 1.1: Methods"
   ]
  },
  {
   "attachments": {},
   "cell_type": "markdown",
   "metadata": {},
   "source": [
    "### 1.1.0: Empirical"
   ]
  },
  {
   "cell_type": "code",
   "execution_count": null,
   "metadata": {},
   "outputs": [],
   "source": [
    "def empirical(s, sigma, r, delta, option, time):\n",
    "    solution = np.zeros(shape = (s.shape[0], time.shape[0]))\n",
    "    \n",
    "    if option in [\"Euro Call\", \"Euro Put\"]:\n",
    "        for i, current_s in enumerate(s):\n",
    "            d_1 = (np.log(current_s / E) + (r - delta + sigma ** 2 / 2) * (T - time)) / (sigma * np.sqrt(T - time))\n",
    "            d_2 = d_1 - sigma * np.sqrt(T - time)\n",
    "            \n",
    "            if option == \"Euro Call\":\n",
    "                solution[i, :] = current_s * np.exp(-delta * (T - time)) * norm.cdf(d_1) - E * np.exp(-sigma * (T - time)) * norm.cdf(d_2)\n",
    "            elif option == \"Euro Put\":\n",
    "                solution[i, :] = E * np.exp(-sigma * (T - time)) * norm.cdf(-d_2) - current_s * np.exp(-delta * (T - time)) * norm.cdf(-d_1)\n",
    "    \n",
    "    return solution[:, ::-1] # flipped for plotting consistency purposes"
   ]
  },
  {
   "attachments": {},
   "cell_type": "markdown",
   "metadata": {},
   "source": [
    "### 1.1.1: Crank-Nicolson with Rannacher Smoothing\n",
    "The [link](https://github.com/katpirat/Finite-difference-for-PDEs/blob/main/FD_for_BlackScholes_pricing.py) to the implementation that I ~~stole~~ _took inspiration_ from.\n",
    "\n",
    "The [link](https://www.researchgate.net/publication/228524629_Convergence_analysis_of_Crank-Nicolson_and_Rannacher_time-marching) that explains why I used quarter steps for ONE iteration in the Rannacher smoothing. See the last paragraph of page 107.\n",
    "\n",
    "Read [this](http://www.goddardconsulting.ca/option-pricing-finite-diff-crank-nicolson.html) to learn more about Crank-Nicolson differencing for Black-Scholes-Merton."
   ]
  },
  {
   "cell_type": "code",
   "execution_count": null,
   "metadata": {},
   "outputs": [],
   "source": [
    "def crank_smoothed(s, sigma, r, delta, solution):\n",
    "    crank_solution = copy.deepcopy(solution)\n",
    "    \n",
    "    # Crank-Nicolson vectors\n",
    "    u_vec = (sigma ** 2 * s ** 2) / (4 * hs ** 2) - (r - delta) * s / (4 * hs)\n",
    "    v_vec = (sigma ** 2 * s ** 2) / (2 * hs ** 2) + r / 2\n",
    "    w_vec = (sigma ** 2 * s ** 2) / (4 * hs ** 2) + (r - delta) * s / (4 * hs)\n",
    "    \n",
    "    P_mat_C = -np.diag(u_vec[2:-1] * ht, -1) + np.diag(v_vec[1:-1] * ht) - np.diag(w_vec[1:-2] * ht, 1) + np.identity(M - 1)\n",
    "    \n",
    "    offset_1 = np.zeros(M - 1)\n",
    "    offset_2 = np.zeros(M - 1)\n",
    "    \n",
    "    # Backward Euler setup\n",
    "    alpha = ht_small * (-sigma ** 2 * s ** 2 / hs ** 2 + s * (r - delta)/ hs) / 2\n",
    "    beta = ht_small * (r + sigma ** 2 * s ** 2 / hs ** 2)\n",
    "    gamma = ht_small * (-s ** 2 * sigma ** 2 / hs ** 2 - s * (r - delta)/ hs) / 2\n",
    "    \n",
    "    P_mat_E = np.diag(alpha[2:-1], -1) + np.diag(beta[1:-1]) + np.diag(gamma[1:-2], 1) + np.identity(M - 1)\n",
    "    \n",
    "    offset = np.zeros(M - 1)\n",
    "    \n",
    "    for i in range(N + 3, 0, -1):\n",
    "        if i > N - 1:\n",
    "            if not check_diag_dominant(P_mat_E):\n",
    "                print(\"Matrix is NOT diagonally dominant!!!\")\n",
    "            \n",
    "            offset[0], offset[-1] = crank_solution[0, i] * alpha[1], crank_solution[-1, i] * gamma[-1]\n",
    "            \n",
    "        \n",
    "            crank_solution[1:-1, i - 1] = thomas(np.diag(P_mat_E, -1),\n",
    "                                                 np.diag(P_mat_E),\n",
    "                                                 np.diag(P_mat_E, 1),\n",
    "                                                 crank_solution[1:-1, i] - offset) # the problem was multiplying \n",
    "                                                                                   # the offset by ht in initialization and here (twice)\n",
    "        else:\n",
    "            if not check_diag_dominant(P_mat_C):\n",
    "                print(\"Matrix is NOT diagonally dominant!!!\")\n",
    "                \n",
    "            offset_1[0] = crank_solution[0, i] * u_vec[1] * -2\n",
    "            offset_1[-1] = crank_solution[-1, i] * w_vec[-1] * -2\n",
    "\n",
    "            offset_2[0] = crank_solution[0, i - 1] * u_vec[1] * -2\n",
    "            offset_2[-1] = crank_solution[-1, i - 1] * w_vec[-1] * -2\n",
    "            \n",
    "            Q_mat = np.diag(u_vec[2:-1] * ht, -1) - np.diag(v_vec[1:-1] * ht) + np.diag(w_vec[1:-2] * ht, 1) + np.identity(M - 1)\n",
    "            RHS = np.dot(Q_mat, crank_solution[1:-1, i]) - ht / 2 * (offset_1 + offset_2)\n",
    "                \n",
    "            crank_solution[1:-1, i - 1] = thomas(np.diag(P_mat_C, -1),\n",
    "                                                np.diag(P_mat_C),\n",
    "                                                np.diag(P_mat_C, 1),\n",
    "                                                RHS)\n",
    "        \n",
    "    df = pd.DataFrame(crank_solution, columns = list(map(lambda i: str(ht * i), \n",
    "                                                         range(crank_solution.shape[1]))))\n",
    "\n",
    "    return df"
   ]
  },
  {
   "attachments": {},
   "cell_type": "markdown",
   "metadata": {},
   "source": [
    "### 1.1.2: Crank-Nicolson (plain)\n",
    "Want this without smoothing for comparison purposes."
   ]
  },
  {
   "cell_type": "code",
   "execution_count": null,
   "metadata": {},
   "outputs": [],
   "source": [
    "def crank(s, sigma, r, delta, solution):\n",
    "    crank_solution = copy.deepcopy(solution)\n",
    "    \n",
    "    # Crank-Nicolson vectors\n",
    "    u_vec = (sigma ** 2 * s ** 2) / (4 * hs ** 2) - (r - delta) * s / (4 * hs)\n",
    "    v_vec = (sigma ** 2 * s ** 2) / (2 * hs ** 2) + r / 2\n",
    "    w_vec = (sigma ** 2 * s ** 2) / (4 * hs ** 2) + (r - delta) * s / (4 * hs)\n",
    "    \n",
    "    P_mat_C = -np.diag(u_vec[2:-1] * ht, -1) + np.diag(v_vec[1:-1] * ht) - np.diag(w_vec[1:-2] * ht, 1) + np.identity(M - 1)\n",
    "    \n",
    "    offset_1 = np.zeros(M - 1)\n",
    "    offset_2 = np.zeros(M - 1)\n",
    "    \n",
    "    for i in range(N, 0, -1):\n",
    "        if not check_diag_dominant(P_mat_C):\n",
    "                print(\"Matrix is NOT diagonally dominant!!!\")\n",
    "                \n",
    "        offset_1[0] = crank_solution[0, i] * u_vec[1] * -2\n",
    "        offset_1[-1] = crank_solution[-1, i] * w_vec[-1] * -2\n",
    "\n",
    "        offset_2[0] = crank_solution[0, i - 1] * u_vec[1] * -2\n",
    "        offset_2[-1] = crank_solution[-1, i - 1] * w_vec[-1] * -2\n",
    "            \n",
    "        Q_mat = np.diag(u_vec[2:-1] * ht, -1) - np.diag(v_vec[1:-1] * ht) + np.diag(w_vec[1:-2] * ht, 1) + np.identity(M - 1)\n",
    "        RHS = np.dot(Q_mat, crank_solution[1:-1, i]) - ht / 2 * (offset_1 + offset_2)\n",
    "                \n",
    "        crank_solution[1:-1, i - 1] = thomas(np.diag(P_mat_C, -1),\n",
    "                                             np.diag(P_mat_C),\n",
    "                                             np.diag(P_mat_C, 1),\n",
    "                                             RHS)\n",
    "        \n",
    "    df = pd.DataFrame(crank_solution, columns = list(map(lambda i: str(ht * i), \n",
    "                                                         range(crank_solution.shape[1]))))\n",
    "\n",
    "    return df"
   ]
  },
  {
   "attachments": {},
   "cell_type": "markdown",
   "metadata": {},
   "source": [
    "### 1.1.3: Backward Euler"
   ]
  },
  {
   "cell_type": "code",
   "execution_count": null,
   "metadata": {},
   "outputs": [],
   "source": [
    "# def backward_euler(s, sigma, r, delta, solution):\n",
    "#     crank_solution = copy.deepcopy(solution)\n",
    "    \n",
    "#     alpha = ht * (sigma ** 2 * s ** 2 / hs ** 2 - s / hs * (r - delta)) / 2\n",
    "#     beta = ht * (r + sigma ** 2 * s ** 2 / hs ** 2)\n",
    "#     gamma = ht * (s ** 2 * sigma ** 2 / hs ** 2 + s / hs * (r - delta)) / 2\n",
    "    \n",
    "#     P_mat = -np.diag(alpha[2:-1], -1) + np.diag(beta[1:-1]) - np.diag(gamma[1:-2], 1) + np.identity(M - 1)\n",
    "    \n",
    "#     offset = np.zeros(M - 1)\n",
    "    \n",
    "#     for i in range(N, 0, -1):\n",
    "#         offset[0], offset[-1] = crank_solution[0, i] * alpha[1], crank_solution[-1, i] * gamma[-1]\n",
    "        \n",
    "#         crank_solution[1:-1, i - 1] = thomas(np.diag(P_mat, -1),\n",
    "#                                              np.diag(P_mat),\n",
    "#                                              np.diag(P_mat, 1),\n",
    "#                                              crank_solution[1:-1, i] - offset)\n",
    "        \n",
    "#     df = pd.DataFrame(crank_solution, columns = list(map(lambda i: str(ht * i), \n",
    "#                                                          range(N + 1))))\n",
    "#     return df"
   ]
  },
  {
   "attachments": {},
   "cell_type": "markdown",
   "metadata": {},
   "source": [
    "## 1.2: Plot Function"
   ]
  },
  {
   "cell_type": "code",
   "execution_count": null,
   "metadata": {},
   "outputs": [],
   "source": [
    "def surface_plot(solution):\n",
    "    X, Y = np.meshgrid(t[::-1], s)\n",
    "    \n",
    "    fig = go.Figure(data=[go.Surface(z=solution, x=Y, y=X)])\n",
    "    \n",
    "    fig.update_layout(title='Price Surface', \n",
    "                      autosize=False,\n",
    "                      scene=dict(xaxis_title='Price',\n",
    "                                 yaxis_title='Time',\n",
    "                                 zaxis_title='Payoff'))\n",
    "    fig.show()"
   ]
  },
  {
   "attachments": {},
   "cell_type": "markdown",
   "metadata": {},
   "source": [
    "## 1.3: Solve and Plot"
   ]
  },
  {
   "attachments": {},
   "cell_type": "markdown",
   "metadata": {},
   "source": [
    "### 1.3.1: CN with Rannacher"
   ]
  },
  {
   "cell_type": "code",
   "execution_count": null,
   "metadata": {},
   "outputs": [],
   "source": [
    "crank_sol = crank_smoothed(s, sigma, r, delta, solution)\n",
    "surface_plot(crank_sol)"
   ]
  },
  {
   "cell_type": "code",
   "execution_count": null,
   "metadata": {},
   "outputs": [],
   "source": [
    "# something is going on with the spurious oscillations of the system\n",
    "# are attemping to apply BE to make the oscillations go away, this seems to not be working\n",
    "plt.plot(t, crank_sol.iloc[-2, :])\n",
    "# THIS IS FIXED, KEEP THIS IN TO SHOW LATER\n",
    "# This was being caused by multiplying the offset by ht twice."
   ]
  },
  {
   "attachments": {},
   "cell_type": "markdown",
   "metadata": {},
   "source": [
    "### 1.3.2: CN"
   ]
  },
  {
   "cell_type": "code",
   "execution_count": null,
   "metadata": {},
   "outputs": [],
   "source": [
    "# need to reset t and grid for following methods\n",
    "t = np.linspace(start = 0,\n",
    "                stop = T,\n",
    "                num = N + 1)\n",
    "# solution grid\n",
    "solution = np.zeros(shape = (M + 1, N + 1))\n",
    "solution = initial_condition(solution, option_type)"
   ]
  },
  {
   "cell_type": "code",
   "execution_count": null,
   "metadata": {},
   "outputs": [],
   "source": [
    "plain_crank_sol = crank(s, sigma, r, delta, solution)\n",
    "surface_plot(plain_crank_sol)"
   ]
  },
  {
   "cell_type": "code",
   "execution_count": null,
   "metadata": {},
   "outputs": [],
   "source": [
    "plt.plot(t, plain_crank_sol.iloc[-2, :])"
   ]
  },
  {
   "attachments": {},
   "cell_type": "markdown",
   "metadata": {},
   "source": [
    "### 1.3.3: Empirical"
   ]
  },
  {
   "cell_type": "code",
   "execution_count": null,
   "metadata": {},
   "outputs": [],
   "source": [
    "empirical_sol = empirical(s, sigma, r, delta, option_type, t[:-1])\n",
    "surface_plot(empirical_sol)"
   ]
  }
 ],
 "metadata": {
  "kernelspec": {
   "display_name": "base",
   "language": "python",
   "name": "python3"
  },
  "language_info": {
   "codemirror_mode": {
    "name": "ipython",
    "version": 3
   },
   "file_extension": ".py",
   "mimetype": "text/x-python",
   "name": "python",
   "nbconvert_exporter": "python",
   "pygments_lexer": "ipython3",
   "version": "3.11.5"
  },
  "orig_nbformat": 4
 },
 "nbformat": 4,
 "nbformat_minor": 2
}
