{
 "cells": [
  {
   "attachments": {},
   "cell_type": "markdown",
   "metadata": {},
   "source": [
    "### Colin Alberts"
   ]
  },
  {
   "attachments": {},
   "cell_type": "markdown",
   "metadata": {},
   "source": [
    "## 0: Importing Packages and Defining Variables"
   ]
  },
  {
   "attachments": {},
   "cell_type": "markdown",
   "metadata": {},
   "source": [
    "### 0.0: Importing Packages"
   ]
  },
  {
   "cell_type": "code",
   "execution_count": null,
   "metadata": {},
   "outputs": [],
   "source": [
    "import numpy as np\n",
    "import sympy as sp\n",
    "import pandas as pd\n",
    "import copy\n",
    "\n",
    "# import matplotlib.pyplot as plt\n",
    "# from mpl_toolkits.mplot3d import Axes3D\n",
    "import plotly\n",
    "import plotly.graph_objs as go"
   ]
  },
  {
   "attachments": {},
   "cell_type": "markdown",
   "metadata": {},
   "source": [
    "### 0.1: Defining Variables"
   ]
  },
  {
   "cell_type": "code",
   "execution_count": null,
   "metadata": {},
   "outputs": [],
   "source": [
    "T = 5               # expiry time\n",
    "r = 0.2             # no-risk interest rate\n",
    "sigma = 0.3         # volatility of underlying asset\n",
    "delta = 0.1         # dividend rate\n",
    "E = 100.            # exercise price\n",
    "S_max = 2 * E       # upper bound of price of the stock (chosen somewhat arbitrarily, unlikely a security will double in price)\n",
    "S_min = 0           # this is redundant\n",
    "N = int(T * 100)    # time iterations\n",
    "M = int(S_max * 4)  # space iterations, accurate to about 25 cents\n",
    "option_type = \"Call\"\n",
    "\n",
    "# time grid\n",
    "t, ht = np.linspace(start = 0,\n",
    "                    stop = T,\n",
    "                    num = N + 1,\n",
    "                    retstep = True)\n",
    "\n",
    "# spatial grid (stock's price)\n",
    "s, hs = np.linspace(0, \n",
    "                    S_max, \n",
    "                    M + 1, \n",
    "                    retstep = True)\n",
    "\n",
    "def initial_condition(x, option):\n",
    "    x_copy = x\n",
    "        \n",
    "    if option == 'Call':\n",
    "        x_copy[:, -1] = np.maximum(s - E, 0)\n",
    "        x_copy[0, :] = 0\n",
    "        x_copy[-1, :] = np.exp(-r * (T - t)) * (S_max - E)\n",
    "    elif option == 'Put':\n",
    "        x_copy[:, -1] = np.maximum(E - s, 0)\n",
    "        x_copy[0, :] = np.exp(-r * (T - t)) * (E - S_min)\n",
    "        x_copy[-1, :] = 0\n",
    "\n",
    "    return x_copy\n",
    "\n",
    "# solution grid\n",
    "solution = np.zeros(shape = (M + 1, N + 1))\n",
    "solution = initial_condition(solution, option_type)\n"
   ]
  },
  {
   "attachments": {},
   "cell_type": "markdown",
   "metadata": {},
   "source": [
    "### 0.2: Optimization Functions"
   ]
  },
  {
   "cell_type": "code",
   "execution_count": null,
   "metadata": {},
   "outputs": [],
   "source": [
    "# Thomas Algorithm, is only stable when matrix is diagonally dominant or SPD.\n",
    "def thomas(a, b, c, d):\n",
    "    dim = len(d)  # nr of equations to be solved\n",
    "    ac, bc, cc, dc = map(np.array, (a, b, c, d))\n",
    "    \n",
    "    for i in range(1, dim):\n",
    "        w = ac[i - 1] / bc[i - 1]\n",
    "        bc[i] = bc[i] - w * cc[i - 1]\n",
    "        dc[i] = dc[i] - w * dc[i - 1]\n",
    "        \n",
    "    x = bc\n",
    "    x[-1] = dc[-1] / bc[-1]\n",
    "\n",
    "    for j in range(dim - 2, -1, -1):\n",
    "        x[j] = (dc[j] - cc[j] * x[j + 1]) / bc[j]\n",
    "        \n",
    "    return x"
   ]
  },
  {
   "cell_type": "code",
   "execution_count": null,
   "metadata": {},
   "outputs": [],
   "source": [
    "# Checking diagonal dominance for Thomas Algorithm stability\n",
    "def check_diag_dominant(mat):\n",
    "    diags = np.abs(np.diag(mat))\n",
    "    return np.all(diags >= np.sum(np.abs(mat), axis=1).T - diags)"
   ]
  },
  {
   "attachments": {},
   "cell_type": "markdown",
   "metadata": {},
   "source": [
    "# 1: Crank-Nicolson Implementation"
   ]
  },
  {
   "attachments": {},
   "cell_type": "markdown",
   "metadata": {},
   "source": [
    "## 1.1: Constructing Matrices\n",
    "\n",
    "The [link](https://github.com/katpirat/Finite-difference-for-PDEs/blob/main/FD_for_BlackScholes_pricing.py) to the source that I ~~stole~~ took inspiration from."
   ]
  },
  {
   "cell_type": "code",
   "execution_count": null,
   "metadata": {},
   "outputs": [],
   "source": [
    "def crank():\n",
    "    crank_solution = copy.deepcopy(solution)\n",
    "    \n",
    "    u_vec = (sigma ** 2 * s ** 2) / (4 * hs ** 2) - (r - delta) * s / (4 * hs)\n",
    "    v_vec = (sigma ** 2 * s ** 2) / (2 * hs ** 2) + r / 2\n",
    "    w_vec = (sigma ** 2 * s ** 2) / (4 * hs ** 2) + (r - delta) * s / (4 * hs)\n",
    "    \n",
    "    P_mat = -np.diag(u_vec[2:-1] * ht, -1) + np.diag(v_vec[1:-1] * ht) - np.diag(w_vec[1:-2] * ht, 1) + np.identity(M - 1)\n",
    "    \n",
    "    offset_1 = np.zeros(M - 1)\n",
    "    offset_2 = np.zeros(M - 1)\n",
    "    \n",
    "    for i in range(N, 0, -1):\n",
    "        offset_1[0] = crank_solution[0, i] * u_vec[1] * -2\n",
    "        offset_1[-1] = crank_solution[-1, i] * w_vec[-1] * -2\n",
    "\n",
    "        offset_2[0] = crank_solution[0, i - 1] * u_vec[1] * -2\n",
    "        offset_2[-1] = crank_solution[-1, i - 1] * w_vec[-1] * -2\n",
    "        \n",
    "        Q_mat = np.diag(u_vec[2:-1] * ht, -1) - np.diag(v_vec[1:-1] * ht) + np.diag(w_vec[1:-2] * ht, 1) + np.identity(M - 1)\n",
    "        \n",
    "        RHS = np.dot(Q_mat, crank_solution[1:-1, i]) - ht / 2 * (offset_1 + offset_2)\n",
    "        \n",
    "        if not check_diag_dominant(P_mat):\n",
    "            print(\"Matrix is NOT diagonally dominant!!!\")\n",
    "            \n",
    "        crank_solution[1:-1, i - 1] = thomas(np.diag(P_mat, -1),\n",
    "                                             np.diag(P_mat),\n",
    "                                             np.diag(P_mat, 1),\n",
    "                                             RHS)\n",
    "        \n",
    "    df = pd.DataFrame(crank_solution, columns = list(map(lambda i: str(ht * i), \n",
    "                                                         range(N + 1))))\n",
    "\n",
    "    return df"
   ]
  },
  {
   "attachments": {},
   "cell_type": "markdown",
   "metadata": {},
   "source": [
    "## 1.2: Plot Function"
   ]
  },
  {
   "cell_type": "code",
   "execution_count": null,
   "metadata": {},
   "outputs": [],
   "source": [
    "def surface_plot(solution):\n",
    "    X, Y = np.meshgrid(t, s)\n",
    "    \n",
    "    fig = go.Figure(data=[go.Surface(z=solution, x=Y, y=X)])\n",
    "    \n",
    "    fig.update_layout(title='Price Surface', \n",
    "                      autosize=False,\n",
    "                      scene=dict(xaxis_title='Price',\n",
    "                                 yaxis_title='Time',\n",
    "                                 zaxis_title='Payoff'))\n",
    "    fig.show()"
   ]
  },
  {
   "attachments": {},
   "cell_type": "markdown",
   "metadata": {},
   "source": [
    "## 1.3: Solve and Plot"
   ]
  },
  {
   "cell_type": "code",
   "execution_count": null,
   "metadata": {},
   "outputs": [],
   "source": [
    "surface_plot(crank())"
   ]
  }
 ],
 "metadata": {
  "kernelspec": {
   "display_name": "base",
   "language": "python",
   "name": "python3"
  },
  "language_info": {
   "codemirror_mode": {
    "name": "ipython",
    "version": 3
   },
   "file_extension": ".py",
   "mimetype": "text/x-python",
   "name": "python",
   "nbconvert_exporter": "python",
   "pygments_lexer": "ipython3",
   "version": "3.11.5"
  },
  "orig_nbformat": 4
 },
 "nbformat": 4,
 "nbformat_minor": 2
}
